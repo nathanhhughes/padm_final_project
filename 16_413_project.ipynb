{
  "nbformat": 4,
  "nbformat_minor": 0,
  "metadata": {
    "colab": {
      "name": "16_413_project.ipynb",
      "provenance": [],
      "collapsed_sections": []
    },
    "kernelspec": {
      "name": "python3",
      "display_name": "Python 3"
    }
  },
  "cells": [
    {
      "cell_type": "markdown",
      "metadata": {
        "id": "oIGt2Y7FAdkv"
      },
      "source": [
        "## Section 1: Introduction\n",
        "\n",
        "Welcome our tutorial on Bayesian Networks (Bayes nets)! We're hoping by the time that you have finished the tutorial you will get a sense for the following:\n",
        "  * What they are and what classes of problems they can be used to solve\n",
        "  * How to implement several common useful operations with a Bayes net\n",
        "  * Limitations that the approaches involving Bayes Nets may have\n",
        "\n",
        "We begin our notebook with some preliminaries (and a fun motivating example) and then move on to describing some preliminary code structures that we'll use throughout the reset of the tutorial.  We then provide some relevant excerpts from our implementation, centered around explaining functionality that we're going to use to solve the problems that our motivating example poses. We then display the potential of a Bayes net against our motiving example. Finally, we point out some limitations of using a Bayes net (primarily the scalability of the approach) to solve our motivating example and discuss (and potentially show) possible ways to address these limitations.\n",
        "  "
      ]
    },
    {
      "cell_type": "markdown",
      "metadata": {
        "id": "s6dEiJ7aP3oy"
      },
      "source": [
        "### Section 1.1: What exactly is a Bayes Net and what is it good for?\n",
        "\n",
        "At a high level, a Bayes net is a graphical model that we can use to represent the relationship between different random variables.\n",
        "\n",
        "TODO(nathan): link this section with the math that follows"
      ]
    },
    {
      "cell_type": "markdown",
      "metadata": {
        "id": "UtNOPIcNveIM"
      },
      "source": [
        "In this section we further explain how the underlying math is going to work.\n",
        "Suppose the space of all state is $X$, observations are $O$, results are $Y$, and hidden states are $X^H$.\n",
        "\n",
        "We are trying to compute the joint pmf over the entire space: $P(X)$.\n",
        "\n",
        "**Step 1**: apply chain rule to the joint distribution of $X$.\n",
        "\n",
        "$$ P(X) = P(Y, O, X^H) = \\prod\\limits_{\\text{$x$ in $X$}}P(x \\,| \\, \\text{parents of $x$} )$$\n",
        "\n",
        "That’s not phenomenally useful yet because this requires a probability mass function for each of the states - hidden and not.\n",
        "\n",
        "**Step 2**: Apple value elimination by marginalization: the idea is to marginalize the hidden state pmfs out - we only really need to calculate the pmf over the variables we are interested in - observations and results.\n",
        "\n",
        "$$ P(Y, O) =  \\big(\\prod\\limits_{Y_i}^{m} P(Y_i) \\big) \\sum\\limits_{X_1^H} \\big( \\prod P(\\text{has $X_1^H, Y_i, O_i$ but not $X_js$}) \\big)  \\sum\\limits_{X_2^H} \\big( \\prod P(\\text{has $X_2^H, X_1^H, Y_i, O_i$ but not $X_js$}) \\big) \\sum \\big(...\\big)$$\n",
        "\n",
        "**Step 3**: Condition on observations at current step $O^i = \\{o^i_1, o^i_2, ...\\}$:\n",
        "\n",
        "$$ P(Y|O) = \\frac{P(Y, O)}{P(O)} = \\eta \\sum\\limits_{X_H}P(Y, X^H, O^i) $$\n",
        "\n",
        "(we don't actually need to compute $P(O)$ since we will be computing belief assignment over all results, so $P(O)$ becomes a normalization factor. )\n",
        "\n",
        "**Step 4**: find maximal assignments. Now, if what we need is to get the most likely event, computing maximums by augmenting Step 2 and 3 is indeed a more effcient way to do that. However, if we compute PMFs for each result $Y$, that taking the maximum over all Ys is easer. As in:\n",
        "\n",
        "If the PMF $P(Y|O)$ is computed, most likely $y$ can be computed by taking $\\text{max}(P(Y|O))$. If we don't have the PMF, we can copmute the maximum directly:\n",
        "\n",
        "$$max(P(Y, O)) =  \\big(\\prod\\limits_{Y_i}^{m} P(Y_i) \\big) \\max\\limits_{X_1^H} \\big( \\prod P(\\text{has $X_1^H, Y_i, O_i$ but not $X_js$}) \\big)  \\max\\limits_{X_2^H} \\big( \\prod P(\\text{has $X_2^H, X_1^H, Y_i, O_i$ but not $X_js$}) \\big) max \\big(...\\big)$$\n",
        "\n",
        "\n",
        "\n",
        "**Step 5**: Bucket elimination - simplify 2 and 3 to directly computing results out of observations. At j-th sum, instead sum over the the possible values of j-th hidden variable.\n",
        "\n"
      ]
    },
    {
      "cell_type": "markdown",
      "metadata": {
        "id": "rXmWJvC2p7GM"
      },
      "source": [
        "\n",
        "\n",
        "In this notebook, we aim to showcase the following features:\n",
        "\n",
        "* Defining generic Node and Bayes Net classes.\n",
        "* Creating and disaplying bayes nets (manually generated and randomly generated).\n",
        "* Given the observations, compute and display the posterior distribution for each node (likely through basic enumeration - enumerate node, chain rule to its parents, etc)\n",
        "* Given the observations, compute and display the most likely configuration of the entire network (compute last point, take max over each distribution (?)kind of like viterbi over full system).\n",
        "* Given observations and a specific query node, compute the most likely state of that node (this should still require computing posterior density functions for each intermediate node, i believe).\n",
        "\n",
        "\n",
        "Everything above has been agnostic to which nodes are considered as observation nodes and query nodes.\n",
        "* Let's now define specific nodes as observations and specific nodes as attacks. Perform bucket elimination over the system by marginalizing hidden variables.\n",
        "* Use bucket elimination to efficiently compute joint probability distribution over variables of interest only.\n",
        "* Show that bucket elimination doesn't work for a large number of nodes.\n",
        "* Potential stretch goal: use monte carlo sampling to approximate posterior distributions.\n",
        "\n",
        "-------------------\n",
        "\n",
        "As of now, we are still unclear whether we plan to use a specific class to represent the Bayes net (as in the next cell), or use lists of Nodes (as in the subsequent cells). We'll need to decide whether we want methods to be  stand-alone or as part of a class. \n",
        "\n"
      ]
    },
    {
      "cell_type": "code",
      "metadata": {
        "id": "J_zoSqLUw8S9"
      },
      "source": [
        "import networkx as nx\n",
        "import numpy as np\n",
        "import pandas as pd\n",
        "import random"
      ],
      "execution_count": null,
      "outputs": []
    },
    {
      "cell_type": "code",
      "metadata": {
        "id": "djAmhZfJcKQA"
      },
      "source": [
        "# Draft of Bayes Net class\n",
        "class Bayes_Net():\n",
        "    \"\"\" Representation of a Baysian Network.\n",
        "    \n",
        "    Attributes:\n",
        "    nodes (dict{str->Node}): dict mapping each nodes name to its node object.\n",
        "    graph (DiGraph): network x visual representation of the bayes net.\n",
        "    \"\"\"\n",
        "\n",
        "    nodes = None\n",
        "    graph = None\n",
        "    \n",
        "    def __init__(self, nodes, graph):\n",
        "        \"\"\" Creates the Bayesian Network\n",
        "        \n",
        "        Parameters:\n",
        "        nodes (dict{name(str) -> node(Node)}): dict mapping each node's name to its node object.\n",
        "        \"\"\"\n",
        "        self.nodes = nodes\n",
        "        self.graph = graph\n",
        "\n",
        "        \n",
        "        \n",
        "    def add_observation(self, node, observation):\n",
        "        \"\"\" Adds an observation of a node to the network.\n",
        "        \n",
        "        Parameters:\n",
        "        node (Node): node that was observed\n",
        "        observation ( ): value of the observation\n",
        "        \"\"\"\n",
        "        raise NotImplementedError()\n",
        "        \n",
        "        \n",
        "    def remove_observation(self, node):\n",
        "        \"\"\" Removes an observation from the network.\n",
        "        \n",
        "        Parameters:\n",
        "        node (Node): node thats observation is being removed\n",
        "        \"\"\"\n",
        "        raise NotImplementedError()\n",
        "        \n",
        "        \n",
        "    def add_node(self, Node):\n",
        "        \"\"\" Adds a node to the nework. Must be a leaf node.\n",
        "        \n",
        "        Parameters:\n",
        "        node (Node): node to be added to the network\n",
        "        \"\"\"\n",
        "        raise NotImplementedError()\n",
        "        \n",
        "        \n",
        "    def remove_node(self, node):\n",
        "        \"\"\" Remove a node from the network. Must be a leaf node (it would affect child nodes otherwise).\n",
        "        \n",
        "        Parameters:\n",
        "        node (Node): leaf node to be removed from the network\n",
        "        \"\"\"\n",
        "        raise NotImplementedError()\n",
        "        \n",
        "    \n",
        "    def get_MAP_estimate(self, o_nodes=[]):\n",
        "        \"\"\" Compute the most likely configuration of the network given the evidence.\n",
        "        o_nodes (list(Node)): List of observed nodes (Node value =\\= None)\n",
        "        \"\"\"\n",
        "\n",
        "        raise NotImplementedError()\n",
        "        \n",
        "        \n",
        "    def get_posterior(self, q_nodes, o_nodes=[]):\n",
        "        \"\"\"Compute the posterior distribution for the query nodes (q_nodes)\n",
        "            given the observed nodes (o_nodes).\n",
        "            \n",
        "        Parameters:\n",
        "        q_nodes (: Set of nodes for which the posterior is computed\n",
        "        o_nodes (set(Node)): Set of observed nodes.\n",
        "        \"\"\"\n",
        "        raise NotImplementedError()\n",
        "\n",
        "\n",
        "    def bucket_elimination(self, o_nodes, attack_nodes):\n",
        "       \"\"\"\n",
        "        Knowing which variables are observations and which are the results (attacks), \n",
        "        perform bucket elimination on the bayes net. \n",
        "        This simplifies the computation in the case where hidden nodes reamin unobservable, \n",
        "        and observations are asummed to occur for a given set of nodes.\n",
        "        This allows for faster subsequent computation.\n",
        "\n",
        "        Parameters: \n",
        "        o_nodes: a list of string names for observation nodes\n",
        "        attach_nodes: a list of string names for attack nodes\n",
        "\n",
        "\n",
        "       \"\"\"\n",
        "        \n",
        "        \n",
        "    def draw_net(self):\n",
        "        \"\"\"Draws a diagram of the network.\"\"\"\n",
        "        nx.draw(self.graph, with_labels=True, pos = nx.get_node_attributes(self.graph,'pos'), node_color = 'orange', node_size = 500)\n",
        "        "
      ],
      "execution_count": null,
      "outputs": []
    },
    {
      "cell_type": "code",
      "metadata": {
        "id": "aFTAMeoXYRcu"
      },
      "source": [
        ""
      ],
      "execution_count": null,
      "outputs": []
    },
    {
      "cell_type": "code",
      "metadata": {
        "id": "PB0upmh2aax0"
      },
      "source": [
        "# Node class mock-up\n",
        "# TODO(nathan) move this to a separate file when implementing\n",
        "\n",
        "# Current assumption: nodes can be either true or false (rather than A B C)\n",
        "# Current assumption: store only the probability that the nodes is true\n",
        "class Node:\n",
        "  \"\"\"\n",
        "  Represents a random variable in the Bayes network.\n",
        "\n",
        "  Attributes:\n",
        "    name (str): name of the node\n",
        "    probabilities (pd.DataFrame): conditional probability table\n",
        "    parents (List[Node]): all parents of the node\n",
        "  \"\"\"\n",
        "  name = None\n",
        "  probabilities = None\n",
        "  parents = None\n",
        "  # values = None\n",
        "  \n",
        "  # TODO(nathan) think about whether optional probabilities make sense\n",
        "\n",
        "  def __init__(self, name, probabilities, parents=None):\n",
        "    \"\"\"\n",
        "    Constructs a node directly from the conditional probability table (CPT).\n",
        "\n",
        "    Args:\n",
        "      name (str): node name\n",
        "      probabilities (pd.DataFrame): likelihoods of node being true ordered by\n",
        "       cartesian product of parents\n",
        "      parents (Optional[List[Node]]): parents in the conditional probability table\n",
        "    \"\"\"\n",
        "    # for nodes without parents, probabilities is just [0.95], P(X=true)\n",
        "    self.name = name\n",
        "    self.probabilities = probabilities \n",
        "    self.parents = parents\n",
        "    if parents == None:\n",
        "      self.parents = []\n",
        "\n",
        "    \n",
        "\n",
        "  @classmethod\n",
        "  def from_inhibitions(cls, name, parents, inhibition_values):\n",
        "    \"\"\"\n",
        "    Constructs a CPT from a list of inhbiting probabilties from parents.\n",
        "\n",
        "    Args:\n",
        "      name (str): node name\n",
        "      parents (List[Node]): parents in the conditional probability table\n",
        "      inhibition_values (List[float]): likelihood of node being false given\n",
        "        parent is true, in order of parents provided\n",
        "    \n",
        "    \"\"\"\n",
        "    raise NotImplementedError()\n",
        "\n",
        "  def __str__(self):\n",
        "    \"\"\"Show the conditional probability table.\"\"\"\n",
        "    res = \"Node name: \" + self.name + \"\\n\" + \"Node Parents: \" + str([parent.name for parent in self.parents]) + \"\\n\" + str(self.probabilities);\n",
        "    res = res + \"\\n---------------------\\n\"\n",
        "    return res\n",
        "\n",
        "  def __repr__(self):\n",
        "    \"\"\"Show some basic info about the node.\"\"\"\n",
        "    return '{name:'+self.name+', probabilities:'+str(self.probabilities) + ', parents:' + str(self.parents) + '}'\n",
        "\n",
        "\n",
        "def generate_network(n_attacks=2, n_subsystems=3, n_workstations=6):\n",
        "  \"\"\"\n",
        "  Make an example network with the number of components.\n",
        "\n",
        "  Args:\n",
        "    n_attacks (int): number of \"attack\" random variables\n",
        "    n_subsystems (int): number of \"subsystem\" random variables, assuming a single subsystem layer\n",
        "    n_workstations (int): number of \"workstation\" random variables\n",
        "\n",
        "  Returns:\n",
        "    Bayes_Net: a bayes net with the specified random variables.\n",
        "\n",
        "  \"\"\"\n",
        "  # i am also building a graph that could be used to represent the bayes net at the same time\n",
        "  G=nx.DiGraph()\n",
        "  graph_width = max(n_attacks, n_subsystems, n_workstations)\n",
        "\n",
        "\n",
        "  # handle inadequate inputs\n",
        "  if n_attacks == 0:\n",
        "    raise ValueError(\"Need at least one attack!\")\n",
        "  if n_workstations == 0:\n",
        "    raise ValueError(\"Need at least one workstation!\")\n",
        "\n",
        "  # generate attack nodes\n",
        "  attack_nodes = []\n",
        "  for i in range(n_attacks):\n",
        "    G.add_node('a'+str(i), \n",
        "               pos = (graph_width * (i+0.5)/n_attacks, 4),\n",
        "               color = 'r')\n",
        "    attack_nodes.append( Node('a'+str(i), \n",
        "                              generate_random_cpt( [] )\n",
        "                              ) )\n",
        "  # generate subsystem nodes\n",
        "  subsystem_nodes = []\n",
        "  for i in range(n_subsystems):\n",
        "    # a random sample of 1 through n attacks\n",
        "    G.add_node('s'+str(i), \n",
        "               pos = (graph_width * (i+0.5)/n_subsystems, 2),\n",
        "               color = 'b')\n",
        "    sample_attacks = random.sample(range(0, n_attacks), random.randint(1, n_attacks))\n",
        "    for j in sample_attacks:\n",
        "        G.add_edge('a' + str(j), 's' + str(i))\n",
        "    subsystem_nodes.append(Node('s'+str(i), \n",
        "                                generate_random_cpt(['a' + str(j) for j in sample_attacks ]),\n",
        "                                parents = [attack_nodes[j] for j in sample_attacks]\n",
        "                                ) )\n",
        "    \n",
        "  # generate workstation nodes\n",
        "  workstation_nodes = []\n",
        "  for i in range(n_workstations):\n",
        "    G.add_node('w'+str(i), \n",
        "               pos = (graph_width * (i+0.5)/n_workstations, 0),\n",
        "               color = '')\n",
        "    \n",
        "    if n_subsystems != 0:\n",
        "      sample_attacks = random.sample(range(0, n_attacks), random.randint(0, n_attacks//2)) # sample some attacks\n",
        "      sample_subsystems = random.sample(range(0, n_subsystems), random.randint(1, n_subsystems)) # sample at least one subsystem\n",
        "      for j in sample_attacks:\n",
        "        G.add_edge('a' + str(j), 'w' + str(i))\n",
        "      for j in sample_subsystems:\n",
        "        G.add_edge('s' + str(j), 'w' + str(i))\n",
        "      subsystem_nodes.append(Node('w'+str(i), \n",
        "                                  generate_random_cpt(['a' + str(j) for j in sample_attacks ] + ['s' + str(j) for j in sample_subsystems ]),\n",
        "                                  [attack_nodes[j] for j in sample_attacks] + [subsystem_nodes[j] for j in sample_subsystems]\n",
        "                                  ) )\n",
        "    else:\n",
        "      # there are no subsystems, sample just attacks\n",
        "      sample_attacks = random.sample(range(0, n_attacks), random.randint(1, n_attacks))\n",
        "      for j in sample_attacks:\n",
        "        G.add_edge('a' + str(j), 'w' + str(i))\n",
        "      workstation_nodes.append(Node('w'+str(i), \n",
        "                                generate_random_cpt(['a' + str(j) for j in sample_attacks ]),\n",
        "                                [attack_nodes[j] for j in sample_attacks]\n",
        "                                ) )\n",
        "\n",
        "  dictionary_of_nodes = dict()\n",
        "  all_nodes = attack_nodes + subsystem_nodes + workstation_nodes\n",
        "  for n in all_nodes:\n",
        "    dictionary_of_nodes[n.name] = n\n",
        "  return Bayes_Net(dictionary_of_nodes, G)\n",
        "\n",
        "  \n",
        "\n",
        "def generate_random_cpt(parents=[]):\n",
        "  \"\"\"\n",
        "  Make a random cpt from from a given list of parents, assuming that the value of nodes are either true or false.\n",
        "\n",
        "  Args:\n",
        "    parents (list of str): list of parents; can be empty\n",
        "\n",
        "  Returns:\n",
        "    pandas dataframe: a cpt in a dataframe representation;\n",
        "\n",
        "  \"\"\"\n",
        "  df = pd.DataFrame(columns = parents + ['prob'])\n",
        "  ar = [False] * len(parents)\n",
        "  # we need to create 2^parents rows - the cpt table.\n",
        "  # these few lines generate all combinations of false / true statements \n",
        "  for i in range(2**len(parents)):\n",
        "    df.loc[i] = ar + [random.random()]\n",
        "    j = 0\n",
        "    while j < len(parents) and True:\n",
        "      if ar[j] == False:\n",
        "        ar[j] = True\n",
        "        ar[0:j] = [False] * (j)\n",
        "        break\n",
        "      else:\n",
        "        j+=1\n",
        "  return df\n",
        "\n",
        "    \n",
        "\n",
        "\n",
        "  # raise NotImplementedError()"
      ],
      "execution_count": null,
      "outputs": []
    },
    {
      "cell_type": "code",
      "metadata": {
        "id": "wKNzAOZnf3YR",
        "colab": {
          "base_uri": "https://localhost:8080/",
          "height": 319
        },
        "outputId": "58e0ace8-2557-4c75-a52c-0150b6a24a3e"
      },
      "source": [
        "a = generate_network()\n",
        "a.draw_net()"
      ],
      "execution_count": null,
      "outputs": [
        {
          "output_type": "display_data",
          "data": {
            "image/png": "[encoded data removed]",
            "text/plain": [
              "<Figure size 432x288 with 1 Axes>"
            ]
          },
          "metadata": {
            "tags": []
          }
        }
      ]
    },
    {
      "cell_type": "code",
      "metadata": {
        "id": "DdCPg0uVbjfq"
      },
      "source": [
        "def generate_network(n_attacks=2, n_subsystems=3, n_workstations=6):\n",
        "  \"\"\"\n",
        "  Make an example network with the number of components.\n",
        "\n",
        "  Args:\n",
        "    n_attacks (int): number of \"attack\" random variables\n",
        "    n_subsystems (int): number of \"subsystem\" random variables\n",
        "    n_workstations (int): number of \"workstation\" random variables\n",
        "\n",
        "  Returns:\n",
        "    Network: a bayes net with the specified random variables.\n",
        "\n",
        "  \"\"\"\n",
        "  # assuming a single layer within the subsystems\n",
        "  attack_names = [\"a\"+str(i) for i in range(n_attacks)]\n",
        "  attack_nodes = []\n",
        "  for i in range(n_attacks):\n",
        "    \n",
        "\n"
      ],
      "execution_count": null,
      "outputs": []
    },
    {
      "cell_type": "code",
      "metadata": {
        "id": "uj1vEX9jbnY-",
        "colab": {
          "base_uri": "https://localhost:8080/"
        },
        "outputId": "bb0237ea-14d8-450c-adfc-4faba08e6a1c"
      },
      "source": [
        "parents = []\n",
        "# if len(parents) > 0:\n",
        "print(f\"Node Parents: {[parent for parent in parents]}\")\n",
        "# else:\n",
        "  # print(\"No Parents\")\n"
      ],
      "execution_count": null,
      "outputs": [
        {
          "output_type": "stream",
          "text": [
            "Node Parents: []\n"
          ],
          "name": "stdout"
        }
      ]
    },
    {
      "cell_type": "markdown",
      "metadata": {
        "id": "g_3_vjyU_4qu"
      },
      "source": [
        "### Basic Example\n",
        "\n",
        "Some blurb providing context about the example.\n",
        "\n",
        "Present the example more formally (i.e. provided a diagram and CPTS for all nodes)"
      ]
    },
    {
      "cell_type": "code",
      "metadata": {
        "id": "wbRBcRbPAWWK"
      },
      "source": [
        "# Basic Example\n",
        "\n",
        "# Different attacks\n",
        "attack_1 = Node(\"attack_1\", 1.0e-2)\n",
        "attack_2 = Node(\"attack_2\", 3.0e-3)\n",
        "\n",
        "# subsytem\n",
        "subsystem_1 = Node(\"subsystem_1\", np.array([0.7, 0.2]), parents=[attack_1])\n",
        "\n",
        "# workstations\n",
        "# Note that we're treating workstations as components in this example\n",
        "workstation_1 = Node(\"workstation_1\", np.array([0.4, 0.8]), parents=[attack_2])\n",
        "workstation_2 = Node.from_inhibitions(\"workstation_2\", [attack_2, subsystem_1], np.array([0.1, 0.2]))\n",
        "\n",
        "network = Network([attack_1, attack_2, subsystem_1, workstation_1, workstation_2])\n",
        "draw_network(network)"
      ],
      "execution_count": null,
      "outputs": []
    },
    {
      "cell_type": "markdown",
      "metadata": {
        "id": "RfspcJOxL8yZ"
      },
      "source": [
        "#### Posterior Distribution\n",
        "\n",
        "We can query the network for the probability distribution of variables given specific observations. In this example, we are intereseted in the likelihood of each attack given different observation sequences."
      ]
    },
    {
      "cell_type": "code",
      "metadata": {
        "id": "3Zm0tUQHMY4h"
      },
      "source": [
        "P_attack_1 = get_likelihood(network, \"attack_1\", {\"workstation_1\": True})\n",
        "print('Likelihood of attack 1 conditioned on workstation 1 failing: {}'.format(attack_1))\n",
        "P_attack_2 = get_likelihood(network, \"attack_2\", {\"workstation_2\": True, \"subsystem_1\": False})\n",
        "print('Likelihood of attack 2 conditioned on workstation 1 failing: {}'.format(attack_2))"
      ],
      "execution_count": null,
      "outputs": []
    },
    {
      "cell_type": "markdown",
      "metadata": {
        "id": "ei5Vel7qNAKc"
      },
      "source": [
        "#### Most Likely Configuration of Network\n",
        "\n",
        "We can also query the network to assign the most likely values of each random variable given certain observations."
      ]
    },
    {
      "cell_type": "code",
      "metadata": {
        "id": "HUnyKvNoNWso"
      },
      "source": [
        "# Same observations as the first example\n",
        "map_assignments = get_map(network, {\"workstation_1\": True})\n",
        "print(\"Most likely states given observation: \")\n",
        "display_assignments(network, map_assignments)\n",
        "# Same observations as the second example\n",
        "map_assignments = get_map(network, {\"workstation_2\": True, \"subsystem_1\": False})\n",
        "print(\"Most likely states given observation: \")\n",
        "display_assignments(network, map_assignments)"
      ],
      "execution_count": null,
      "outputs": []
    },
    {
      "cell_type": "markdown",
      "metadata": {
        "id": "qQd2pUiEOLZj"
      },
      "source": [
        "### Full Example\n",
        "\n",
        "Some blurb about how we generate a more convincing network."
      ]
    },
    {
      "cell_type": "code",
      "metadata": {
        "id": "9RUF2hFzOezY"
      },
      "source": [
        "large_network = generate_bayes_net(n_attacks=3, n_subsystems=5, n_workstations=30)\n",
        "attacks = [\"attack_{}\".format(i + 1) for i in range(3)]\n",
        "draw_network(large_network)"
      ],
      "execution_count": null,
      "outputs": []
    },
    {
      "cell_type": "markdown",
      "metadata": {
        "id": "3Hc7Yi51PDeJ"
      },
      "source": [
        "#### Exact inference\n",
        "\n",
        "Some blurb about how we can still perform similar queries as before on larger networks, but there's a limit"
      ]
    },
    {
      "cell_type": "code",
      "metadata": {
        "id": "TzmiywleQFPI"
      },
      "source": [
        "# some method to make \n",
        "observations_1 = make_random_observations(large_network)\n",
        "print(\"Observations: {}\")\n",
        "\n",
        "for attack in attacks:\n",
        "  print(\"Likelihood of {}: {}\".format(attack, get_likelihood(large_network, attack, observations_1)))\n",
        "  assignments = get_map(large_network, observations_1)\n",
        "  print(\"Most likely configuration of {}:\".format(attack))\n",
        "  display_assignments(large_network, assignments)"
      ],
      "execution_count": null,
      "outputs": []
    },
    {
      "cell_type": "markdown",
      "metadata": {
        "id": "_468j-f2TTNY"
      },
      "source": [
        "#### Approximating the posterior distribution (stretch goal?)\n",
        "\n",
        "Some blurb about how for larger networks, approximating the posterior via monte-carlo sampling can be more efficient"
      ]
    },
    {
      "cell_type": "code",
      "metadata": {
        "id": "CiVpsJvtTlS0"
      },
      "source": [
        "sample_sizes = [100, 1000, 10000]\n",
        "\n",
        "exact_likelihood = get_likelihood(large_network, attack, observations_1)\n",
        "\n",
        "for num_samples in sample_sizes:\n",
        "  approx_likelihood = get_approx_likelihood(large_network, attack, observations_1, samples=num_samples)\n",
        "  percent_error = abs(exact_likelihood - approx_likelihood) / (exact_likelihood)\n",
        "  print(\"With {} samples: {} (% error: {})\".format(num_samples, approx_likelihood, percent_error * 100))"
      ],
      "execution_count": null,
      "outputs": []
    },
    {
      "cell_type": "code",
      "metadata": {
        "id": "4oRV8bf6Z-Zu"
      },
      "source": [
        "def get_most_likely_attack(bayes_network, observations):\n",
        "  \"\"\"\n",
        "  Return the most likely attack that based on provided observations.\n",
        "\n",
        "  Args:\n",
        "    bayes_network (bayes_net): \n",
        "    observations (dict): \n",
        "\n",
        "  Returns:\n",
        "  most likely attack (Node)\n",
        "\n",
        "  \"\"\"\n",
        "\n",
        "def get_most_likely_assignment(bayes_network, observations):\n",
        "  \"\"\"\n",
        "  Return the most likely assignment for each subsystem and attack based on observations\n",
        "\n",
        "  Args:\n",
        "    bayes_network (bayes_net): \n",
        "    observations (dict): \n",
        "\n",
        "  Returns:\n",
        "    a bayes network with each subsystem \n",
        "\n",
        "  \"\"\""
      ],
      "execution_count": null,
      "outputs": []
    },
    {
      "cell_type": "code",
      "metadata": {
        "id": "lwVk1mznvbZW"
      },
      "source": [
        ""
      ],
      "execution_count": null,
      "outputs": []
    }
  ]
}